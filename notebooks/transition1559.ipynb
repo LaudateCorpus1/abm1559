{
 "cells": [
  {
   "cell_type": "markdown",
   "metadata": {},
   "source": [
    "## TL;DR\n",
    "\n",
    "- [Pull Request 2924](https://github.com/ethereum/EIPs/pull/2924) in the EIP 1559 repo implements the transition period between the current \"legacy\" first-price auction-based fee market to 1559 as a soft opt-in for wallets and dapps. **Transactions sent in the legacy format** (with their `gas_price` attribute) **are converted to a 1559-compatible format** (with `gas_premium := max_fee := gas_price`).\n",
    "- We model the existing fee market where legacy users take price reference from **distributional oracles** to select their gas price. Their behaviour reproduces known patterns of **first-price auctions**: price stickiness and bubbles, due to the oracles' **reflexivity**. Oracles in this setting quote very different prices from the **market-clearing price**, which we estimate at each step.\n",
    "- On the other hand, **when 1559 users only transact, the oracles closely track the market price**, and more directly the basefee, which 1559 users take as reference to select their transaction parameters.\n",
    "- This implies that in a mixed regime with both 1559-adapted users (who look at the basefee) and legacy users (who look at price oracles), **the behaviour of 1559 users drives oracles closer to the true market price**. The effect is mixed for legacy users. Although they rely on more precise oracles, we find that their inclusion rates and delays are also worse than 1559-adapted users. Once 1559 is live, we suggest including the current basefee level in oracle estimations to ensure legacy users remain competitive.\n",
    "\n",
    "---\n",
    "\n",
    "In this notebook we model and simulate the transition period suggested in [Pull Request 2924](https://github.com/ethereum/EIPs/pull/2924). In this proposal, while 1559 transactions are expected, legacy-style transactions are still accepted by clients who convert them to 1559 format using default parameters based on the declared gas price.\n",
    "\n",
    "Under EIP 1559, users are expected to quote their `gas_premium`, the maximum amount received by a miner who includes their transaction, as well as a `max_fee`, which caps the maximum price paid by the user. Meanwhile, current transactions (which we call \"legacy\" in this notebook) only declare a single `gas_price` parameter, which the user pays in all circumstances (see our general introduction to EIP 1559 and its changes to the existing fee market [here](https://nbviewer.jupyter.org/github/ethereum/rig/blob/master/eip1559/eip1559.ipynb)).\n",
    "\n",
    "Michał Komorowski analysed for Nethermind the impact of this transition period on the user behaviour [in a notebook](https://nbviewer.jupyter.org/github/NethermindEth/research/blob/main/legacyTransactions.ipynb) using the abm1559 library. His takeaways include a comparison of the average fee paid by legacy users vs 1559 users, as well as their inclusion rates and eviction from the transaction pool. Notably, Michał ends with an important open question:\n",
    "\n",
    "> `Percent of legacy vs. 1559 users` in the blocks diagrams show us that transactions submitted by all types of users are included in blocks when basefee reaches stablization. It's good. What is very interesting is the fact that around 40% of transactions in blocks (after stablization of basefee) are transactions submitted by naive users. I would expect more transactions from legacy or from clever users and I'm not sure how to exlain this behaviour. It is also worth pointing that in the in the beginning of the simulation, when basefee grows, mainly transactions of clever EIP-1559 users are included in blocks.\n",
    "\n",
    "We make the hypothesis here that legacy users benefit from the actions of 1559 users, who implicitly align the oracles used by legacy users with the true market price, allowing all users to be included. In this notebook, we'll expand on this idea by comparing two boundary scenarios and their synthesis.\n",
    "\n",
    "We first import the classes from the [abm1559 library](https://github.com/barnabemonnot/abm1559) we'll use in this notebook. If this is your first notebook, you can also check out the [README](https://github.com/barnabemonnot/abm1559/blob/master/README.md) at the root of this repo for installation details."
   ]
  },
  {
   "cell_type": "code",
   "execution_count": null,
   "metadata": {},
   "outputs": [],
   "source": [
    "%config InlineBackend.figure_format = 'svg'\n",
    "\n",
    "import os, sys\n",
    "sys.path.insert(1, os.path.realpath(os.path.pardir))\n",
    "\n",
    "from typing import Sequence, Dict\n",
    "\n",
    "from abm1559.utils import (\n",
    "    constants,\n",
    "    basefee_from_csv_history,\n",
    "    get_basefee_bounds,\n",
    "    flatten\n",
    ")\n",
    "constants[\"SIMPLE_TRANSACTION_GAS\"] = 210000\n",
    "\n",
    "from abm1559.txpool import TxPool\n",
    "\n",
    "from abm1559.users import (\n",
    "    User1559,\n",
    "    AffineUser,\n",
    "    User\n",
    ")\n",
    "\n",
    "from abm1559.config import rng\n",
    "\n",
    "from abm1559.txs import Transaction, Tx1559, TxLegacy\n",
    "\n",
    "from abm1559.userpool import UserPool\n",
    "\n",
    "from abm1559.chain import (\n",
    "    Chain,\n",
    "    Block1559,\n",
    "    Block\n",
    ")\n",
    "\n",
    "from abm1559.simulator import (\n",
    "    spawn_poisson_heterogeneous_demand,\n",
    "    update_basefee,\n",
    "    generate_gbm,\n",
    ")\n",
    "\n",
    "import matplotlib.pyplot as plt\n",
    "import pandas as pd\n",
    "pd.set_option('display.max_rows', 1000)\n",
    "import numpy as np\n",
    "import time\n",
    "import seaborn as sns\n",
    "from tqdm import tqdm"
   ]
  },
  {
   "cell_type": "markdown",
   "metadata": {},
   "source": [
    "## Simulation components\n",
    "\n",
    "### Legacy tooling for EIP 1559 environment\n",
    "\n",
    "We assume that during the transitional period, part of the ecosystem will remain using legacy tooling and creating transactions of the legacy format. To deal with that issue the Pull Request suggests normalising legacy transactions to 1559 transactions using a simple normalisation function.\n",
    "\n",
    "Whenever a legacy transaction declares some `gas_price`, a 1559 transaction is created with `gas_premium = gas_price` and `max_fee = gas_price`. In other words, `gas_price` is still the fee that the user will pay, but the miner is allowed to receive any fee between `basefee` and `gas_price`.\n",
    "\n",
    "| Sender | `gas_price` | `gas_premium` | `max_fee` | `basefee` | User pays | Miner receives |\n",
    "|-|-|-|-|-|-|-|\n",
    "| Legacy user | 100 | 100 | 100 | 40 | 100 | 60 |\n",
    "| 1559 user | x | 1 | 100 | 40 | 41 | 1 |\n",
    "\n",
    "The intuition is that legacy users end up consistently overpaying compared to what 1559 users pay.\n",
    "\n",
    "We provide now the function casting legacy transactions into the 1559 format."
   ]
  },
  {
   "cell_type": "code",
   "execution_count": null,
   "metadata": {},
   "outputs": [],
   "source": [
    "def normalize_from_legacy(legacy: TxLegacy) -> Tx1559:\n",
    "    \"\"\"\n",
    "    Normalized according to\n",
    "    https://github.com/ethereum/EIPs/blob/541c8be92fe759aa602b7d06a088ab1a139e37ce/EIPS/eip-1559.md\n",
    "    \"\"\"\n",
    "    normalized_params = {\n",
    "        \"max_fee\": legacy.gas_price(),\n",
    "        \"gas_premium\": legacy.gas_price(),\n",
    "        \"start_block\": legacy.start_block,\n",
    "    }\n",
    "    return Tx1559(\n",
    "        sender=legacy.sender,\n",
    "        gas_used=constants[\"SIMPLE_TRANSACTION_GAS\"],\n",
    "        tx_params=normalized_params\n",
    "    )"
   ]
  },
  {
   "cell_type": "markdown",
   "metadata": {},
   "source": [
    "Next we introduce Legacy agents with strategic behaviours that are analogous to different gas price estimation methods currently being used.\n",
    "\n",
    "### Legacy users\n",
    "\n",
    "Before we are able to simulate the legacy market together with the new proposed 1559 mechanism, we must understand how legacy users will interpret the new environment. We make the assumption that the legacy users live in a world where they are fully unaware that the transition to 1559 took place. They refer to price oracles (given below) for their fee estimation, send transactions that contain their `gas_price` and are oblivious to the current level of the basefee."
   ]
  },
  {
   "cell_type": "code",
   "execution_count": null,
   "metadata": {},
   "outputs": [],
   "source": [
    "MIN_ACCEPTABLE_TIP = 1 * (10 ** 9)\n",
    "ORACLE_SLOW = \"slow\"\n",
    "ORACLE_MEDIUM = \"medium\"\n",
    "ORACLE_FAST = \"fast\"\n",
    "\n",
    "class LegacyBidder(AffineUser):\n",
    "    def __init__(self, wakeup_block, **kwargs):\n",
    "        super().__init__(wakeup_block, cost_per_unit = 0, **kwargs)\n",
    "        self.value = (1 + self.rng.pareto(2) * 20) * (10 ** 9)\n",
    "\n",
    "    def percentile(self):\n",
    "        raise Exception(\"Not implemented, try using a subclass.\")\n",
    "\n",
    "    def query_oracle(self, env: dict):\n",
    "        fee_oracles = env[\"fee_oracles\"]\n",
    "        return fee_oracles[self.oracle()]\n",
    "\n",
    "    def decide_parameters(self, env: dict):\n",
    "        gas_price = self.query_oracle(env)\n",
    "        \n",
    "        if self.oracle() == ORACLE_SLOW:\n",
    "            scaling = 0.5\n",
    "        elif self.oracle() == ORACLE_MEDIUM:\n",
    "            scaling = 0.75\n",
    "        else:\n",
    "            scaling = 0.9\n",
    "        \n",
    "        # We add a normal error scaled by the user type\n",
    "        gas_price += scaling * self.rng.normal() * (10 ** 9)\n",
    "        \n",
    "        return {\n",
    "            \"gas_price\": int(max(gas_price, MIN_ACCEPTABLE_TIP)), # in wei\n",
    "            \"start_block\": self.wakeup_block,\n",
    "        }\n",
    "    \n",
    "    # This function is the main user entry point \n",
    "    def create_transaction(self, env: dict):\n",
    "        tx_params = self.decide_parameters(env)\n",
    "        \n",
    "        # If gas price is higher than 1.2 * my value, I balk\n",
    "        if tx_params[\"gas_price\"] >= 1.2 * self.value:\n",
    "            return None\n",
    "        \n",
    "        tx_params[\"gas_price\"] = min(self.value, tx_params[\"gas_price\"])\n",
    "                \n",
    "        tx = TxLegacy(\n",
    "            sender = self.pub_key,\n",
    "            gas_used=constants[\"SIMPLE_TRANSACTION_GAS\"],\n",
    "            tx_params = tx_params,\n",
    "        )\n",
    "        return tx"
   ]
  },
  {
   "cell_type": "markdown",
   "metadata": {},
   "source": [
    "In contrast with previous notebooks, users here do not experience a cost for waiting, so it is set to zero in the `__init__` constructor. We also change the distribution of values, previously a simple uniform distribution over the interval $[1, 20]$ to a [Pareto distribution](https://en.wikipedia.org/wiki/Pareto_distribution), a.k.a., the 80/20 law (in truth, we use the [Lomax distribution](https://en.wikipedia.org/wiki/Lomax_distribution), which is simply a Pareto distribution shifted to zero, scale it, and shift it again to 1, so that our users have value at least 1 Gwei).\n",
    "\n",
    "The choice is made to reflect the actual distribution of bids in a more realistic manner, with most users having relatively low value and few users having relatively high value. Note that the scaling of the distribution is rather irrelevant, since we focus on relative differences between users. We scale this distribution to match observed prices on Ethereum and provide intuition. Given here is the distribution of a thousand samples from our value distribution (in Gwei)."
   ]
  },
  {
   "cell_type": "code",
   "execution_count": null,
   "metadata": {},
   "outputs": [],
   "source": [
    "rng = np.random.default_rng(4)\n",
    "pd.DataFrame({ \"value\": rng.pareto(2, 1000) * 20 }).hist(log=True, bins = 100)"
   ]
  },
  {
   "cell_type": "markdown",
   "metadata": {},
   "source": [
    "Note also how our legacy users set their bids.\n",
    "\n",
    "```python\n",
    "gas_price = self.query_oracle(env)\n",
    "gas_price += scaling * self.rng.normal() * (10 ** 9)\n",
    "```\n",
    "\n",
    "The `LegacyBidder` user class is subclassed below to define the `query_oracle` method, from which the user obtains their initial estimate of the current price of gas. The oracle is part of the simulation environment, i.e., contained in the `env` vairable.\n",
    "\n",
    "We then allow the user to modify the price given by this oracle. This increment is returned by a normal distribution, so that the gas price chosen by the user is a noisy version of the quoted oracle price. We represent here the agency of users who tune the gas price themselves taking the oracle as a reference, with most users bidding close to the oracle quote regardless. The normal distribution is scaled by the type of the user, upon which we expand now.\n",
    "\n",
    "We instantiate three types of users, one for each oracle level (\"slow\", \"medium\" and \"fast\"). Concretely, this represents the different preferences of users faced with the three price levels. We have assumed the cost for waiting of all users to be zero, but we can imagine most users being relatively neutral towards their inclusion speed while few would always hit the fast oracle default for inclusion at maximum speed. The type of the user mirrors their position on this distribution of preferences, with neutral users content to use the \"slow\" oracle recommendation while hurried users follow the \"fast\" oracle, and \"medium\" users in-between.\n",
    "\n",
    "The observations in this notebook are fairly robust to the levels of these parameters or the proportion of users between these three classes (\"slow\", \"medium\" and \"fast\"), which we'll define later on."
   ]
  },
  {
   "cell_type": "code",
   "execution_count": null,
   "metadata": {},
   "outputs": [],
   "source": [
    "class LegacyBidderSlow(LegacyBidder):\n",
    "    def oracle(self):\n",
    "        return ORACLE_SLOW\n",
    "    \n",
    "    def export(self):\n",
    "        return {\n",
    "            **super().export(),\n",
    "            \"user_type\": \"user_slow\",\n",
    "        }\n",
    "\n",
    "class LegacyBidderMedium(LegacyBidder):\n",
    "    def oracle(self):\n",
    "        return ORACLE_MEDIUM\n",
    "    \n",
    "    def export(self):\n",
    "        return {\n",
    "            **super().export(),\n",
    "            \"user_type\": \"user_medium\",\n",
    "        }\n",
    "\n",
    "class LegacyBidderFast(LegacyBidder):\n",
    "    def oracle(self):\n",
    "        return ORACLE_FAST\n",
    "    \n",
    "    def export(self):\n",
    "        return {\n",
    "            **super().export(),\n",
    "            \"user_type\": \"user_fast\",\n",
    "        }"
   ]
  },
  {
   "cell_type": "markdown",
   "metadata": {},
   "source": [
    "### Price oracles\n",
    "\n",
    "We use in this notebook a simplified version of existing oracle models. EthGasStation (EGS) estimates [three oracle levels](https://ethgasstation.info/gasrecs.php) using intricate analysis of the transaction pool and previous blocks. In particular, EGS monitors whether a transaction sent at the lowest suggested price is eventually included, updating its safe low amount if it isn't.\n",
    "\n",
    "Our oracle model is admittedly less sophisticated: we only take the percentiles of gas prices observed in previous blocks. Since the quotes are entirely determined by the distribution of gas prices in previous blocks, we call these oracles **distributional**.\n",
    "\n",
    "Given a window of the `N` most recent blocks, we collect the series of gas prices of all transactions included in these `N` blocks. These gas prices are ordered from lowest to highest and percentiles are extracted. In the example below, suppose we take `N = 1` and blocks include 8 transactions. The percentiles levels are 50 (the median), 75 and 90 respectively for the \"slow\", \"medium\" and \"fast\" oracles.\n",
    "\n",
    "| Gas prices | Median (\"slow\" oracle) | 75th-percentile (\"medium\" oracle) | 90th-percentile (\"fast\" oracle) |\n",
    "|-|-|-|-|\n",
    "| 10, 20, 30, 40, 60, 100, 150, 200 | 50 | 125 | 175 |\n",
    "\n",
    "This estimation may be biased when blocks aren't full. Suppose a single block includes only a 2000 Gwei transaction, while all other `N-1` blocks are empty. Should our oracles return 2000 Gwei as their estimation of the current market price? Probably not. To avoid such situations, we define the block target as the targeted block size under EIP 1559 and pad empty transaction slots with zeros to ensure oracles return coherent prices.\n",
    "\n",
    "| Gas prices | Median (\"slow\" oracle) | 75th-percentile (\"medium\" oracle) | 90th-percentile (\"fast\" oracle) |\n",
    "|-|-|-|-|\n",
    "| 0, 0, 0, 0, 0, 0, 150, 200 | 0 | 75 | 175 |"
   ]
  },
  {
   "cell_type": "code",
   "execution_count": null,
   "metadata": {},
   "outputs": [],
   "source": [
    "def update_oracles(env: dict, block_target: int) -> None:\n",
    "    blocks_window = len(env[\"recent_blocks\"])\n",
    "    fees = flatten([[tx.gas_price({ \"basefee\": block.basefee }) for tx in block.txs] for block in env[\"recent_blocks\"]])\n",
    "    fees += [0.0] * (blocks_window * block_target - len(fees))\n",
    "\n",
    "    env[\"fee_oracles\"] = {\n",
    "        ORACLE_SLOW: np.percentile(fees, 50) if len(fees) > 0 else 0,\n",
    "        ORACLE_MEDIUM: np.percentile(fees, 75) if len(fees) > 0 else 0,\n",
    "        ORACLE_FAST: np.percentile(fees, 90) if len(fees) > 0 else 0\n",
    "    }"
   ]
  },
  {
   "cell_type": "markdown",
   "metadata": {},
   "source": [
    "### Bidding bots\n",
    "\n",
    "A special class of high-value users exist on the network too. These users post transactions closing collateralised positions, arbitraging fees on DEXes or bidding for first inclusion. This is where the highest fees are observed, as the largest admissible fee for these transactions is the size of their profit opportunity, which in the three cases mentioned above can be pretty huge. (For more on Miner-Extractable Value, or MEV, and bidding wars, check out [Phil Daian et al., _Flashbots 2.0_ paper](https://arxiv.org/abs/1904.05234)).\n",
    "\n",
    "Recently, [a lower bound of about 10k out of 443k blocks](https://ethresear.ch/t/flashbots-frontrunning-the-mev-crisis/8251) was estimated to have been used for MEV-related activity, with a large amount of the profits (~18.7%) paid back to the miners who included these high-fee, MEV-extracting transactions. Although the behaviour of bots acting on behalf of MEV-chasing users is complex, involving bidding wars and real-time analysis of the transaction pool, we'll use a simple model of an extremely risk averse user who wants their transaction included at any cost (as long as it is lower than the value it can extract).\n",
    "\n",
    "The risk-averse user observes the \"fast\" oracle and posts a gas price somewhere between that oracle and its own (high) value. More data on the outcomes of such bidding wars could be used to tune this assumption, but we reason that any factor such as latency or adverse behaviour may be responsible for stopping the bidding war at any point between its lower bound (the fast oracle) and its upper bound (the user value, i.e., whatever MEV there is to extract)."
   ]
  },
  {
   "cell_type": "code",
   "execution_count": null,
   "metadata": {},
   "outputs": [],
   "source": [
    "class BiddingBot(AffineUser):\n",
    "    def __init__(self, wakeup_block, **kwargs):\n",
    "        super().__init__(wakeup_block, cost_per_unit = 0, **kwargs)\n",
    "        self.value = (1 + self.rng.pareto(2) * 40) * (10 ** 9)\n",
    "\n",
    "    def percentile(self):\n",
    "        raise Exception(\"Not implemented, try using a subclass.\")\n",
    "\n",
    "    def decide_parameters(self, env: dict):\n",
    "        oracle_price = env[\"fee_oracles\"][ORACLE_FAST]\n",
    "        gas_price = oracle_price + self.rng.random() * (self.value - oracle_price)\n",
    "        return {\n",
    "            \"gas_price\": int(gas_price), # in wei\n",
    "            \"start_block\": self.wakeup_block,\n",
    "        }\n",
    "    \n",
    "    # This function is the main user entry point \n",
    "    def create_transaction(self, env: dict):\n",
    "        tx_params = self.decide_parameters(env)\n",
    "                \n",
    "        expected_payoff = self.value - tx_params[\"gas_price\"]\n",
    "        if expected_payoff <= 0:\n",
    "            return None\n",
    "        \n",
    "        tx = TxLegacy(\n",
    "            sender = self.pub_key,\n",
    "            gas_used=constants[\"SIMPLE_TRANSACTION_GAS\"],\n",
    "            tx_params = tx_params,\n",
    "        )\n",
    "        return tx\n",
    "    \n",
    "    def export(self):\n",
    "        return {\n",
    "            **super().export(),\n",
    "            \"user_type\": \"bidding_bot\",\n",
    "        }"
   ]
  },
  {
   "cell_type": "markdown",
   "metadata": {},
   "source": [
    "### Transaction and user pools"
   ]
  },
  {
   "cell_type": "markdown",
   "metadata": {},
   "source": [
    "Mirroring [the work of Michał Komorowski for Nethermind](https://nbviewer.jupyter.org/github/NethermindEth/research/blob/main/legacyTransactions.ipynb), we cap the transaction pool length to represent the bounded memory and computation of mining clients. The transaction pool otherwise still orders transactions by their effective tip (the amount received by the miner for inclusion)."
   ]
  },
  {
   "cell_type": "code",
   "execution_count": null,
   "metadata": {},
   "outputs": [],
   "source": [
    "MAX_TRANSACTIONS_IN_POOL = 2000\n",
    "\n",
    "class MixedTxPool(TxPool):\n",
    "    \n",
    "    def add_txs(self, txs: Sequence[Transaction], env: dict) -> Sequence[Transaction]:\n",
    "        for tx in txs:\n",
    "            if type(tx) is TxLegacy:\n",
    "                tx = normalize_from_legacy(tx)\n",
    "            self.txs[tx.tx_hash] = tx\n",
    "                    \n",
    "        if self.pool_length() > MAX_TRANSACTIONS_IN_POOL:\n",
    "            sorted_txs = sorted(self.txs.values(), key = lambda tx: -tx.tip(env))\n",
    "            self.empty_pool()\n",
    "            self.add_txs(sorted_txs[0:MAX_TRANSACTIONS_IN_POOL], env)\n",
    "            return sorted_txs[MAX_TRANSACTIONS_IN_POOL:]\n",
    "        \n",
    "        return []\n",
    "    \n",
    "    def select_transactions(self, env, user_pool=None, rng=rng) -> Sequence[Transaction]:\n",
    "        # Miner side\n",
    "        max_tx_in_block = int(constants[\"MAX_GAS_EIP1559\"] / constants[\"SIMPLE_TRANSACTION_GAS\"])\n",
    "\n",
    "        valid_txs = [tx for tx in self.txs.values() if tx.is_valid(env) and tx.tip(env) >= MIN_ACCEPTABLE_TIP]\n",
    "        rng.shuffle(valid_txs)\n",
    "\n",
    "        sorted_valid_demand = sorted(\n",
    "            valid_txs,\n",
    "            key = lambda tx: -tx.tip(env)\n",
    "        )\n",
    "        selected_txs = sorted_valid_demand[0:max_tx_in_block]\n",
    "\n",
    "        return selected_txs"
   ]
  },
  {
   "cell_type": "markdown",
   "metadata": {},
   "source": [
    "### The market price\n",
    "\n",
    "Block space allocation is a dynamic process with a queue of users competing for scarce resources. Although first price auctions are an imprecise mechanism to allocate the resources to users efficiently, they provide an estimator of some true **market price**. We define market price as the actual gas price that ought to be quoted to exactly equalise demand with supply. How can we find it in our setting?\n",
    "\n",
    "We target the inclusion of some number of users $T$ in the block (recall that all users have the same, constant demand for gas). New users come in between each block, while the pool holds at most 10,000 unincluded users, ranked by their tip amount. Before a new block is created, we take a \"snapshot\" of the current state: a set of new users with values for gas $(v_i)_i$, and a set of pending transactions with gas prices $(g_j)_j$. We now sort the values and gas prices in decreasing order, obtaining a sequence of \"prices\" $(p_k)_k$. Taking $p_T$, the $T$-th price in the sequence, we estimate the true market price that equalises supply with the demand given the snapshot $(v, g)$.\n",
    "\n",
    "There are at least two other ways to estimate the true market price.\n",
    "\n",
    "1. Associate each transaction $j$ in the transaction pool with the user who sent it, and use the value of that user $v_j$ instead of the gas price $g_j$ of the transaction. This is likely a \"truer\" price of the current market, but it is also not a very useful one. There is nothing the user can do now that they sent their transaction in, so the market must decide to allocate space between existing transactions and the new users.\n",
    "2. Let new users post their transactions, record the gas prices $(g_i)_i$ of these new transactions and use that instead of the new users' values $(v_i)_i$. This price is the most concrete estimation of the realised market state, but may be biased towards the bidding strategies of new users, since the gas price is in general not equal to the user's value.\n",
    "\n",
    "In a sense, we look for a value that answers the question: \"In a world where the market has full information about user values, which _uniform_ price should the market quote to equalise supply and demand?\"\n",
    "\n",
    "We give in `get_market_price` the implementation of this estimator. Note that when we have less users and transactions than the target amount, the price is set to 0, since there is no scarcity. In practice, we could set this no-scarcity price to the minium fee miners expect from a transaction, although this makes no difference in the following."
   ]
  },
  {
   "cell_type": "code",
   "execution_count": null,
   "metadata": {},
   "outputs": [],
   "source": [
    "def get_market_price(users: Sequence[User], txs: Sequence[Transaction], env: dict, target: int) -> float:\n",
    "    values = sorted(\n",
    "        [user.value for user in users] + [tx.gas_price(env) for tx in txs],\n",
    "        key = lambda v: -v\n",
    "    )\n",
    "    return values[target] if target < len(values) else 0"
   ]
  },
  {
   "cell_type": "markdown",
   "metadata": {},
   "source": [
    "### The main simulation loop\n",
    "\n",
    "Finally, here is the simulation loop! Most of the lines below should be familiar if you've followed our notebooks until now."
   ]
  },
  {
   "cell_type": "code",
   "execution_count": null,
   "metadata": {},
   "outputs": [],
   "source": [
    "def simulate(demand_scenario, shares_scenario, extra_metrics = None, rng = rng):\n",
    "    # Instantiate a couple of things\n",
    "    txpool = MixedTxPool()\n",
    "    chain = Chain()\n",
    "    metrics = []\n",
    "    user_pool = UserPool()\n",
    "    blocks_window = 30\n",
    "    start_time = time.time()\n",
    "    block_target = int(constants[\"MAX_GAS_EIP1559\"] / constants[\"SIMPLE_TRANSACTION_GAS\"] / 2.0)\n",
    "    \n",
    "    # `env` is the \"environment\" of the simulation\n",
    "    env = {\n",
    "        # we start with the historic basefee based on previous txs\n",
    "        \"basefee\": constants[\"INITIAL_BASEFEE\"],\n",
    "        # \"basefee\": initial_historic_basefee,\n",
    "        \"current_block\": None,\n",
    "        \"min_premium\": 2 * (10 ** 9),\n",
    "        \"recent_blocks\": [],\n",
    "        \"fee_oracles\": {\n",
    "            ORACLE_SLOW: 2 * (10 ** 9),\n",
    "            ORACLE_MEDIUM: 2 * (10 ** 9),\n",
    "            ORACLE_FAST: 2 * (10 ** 9)\n",
    "        }\n",
    "    }\n",
    "\n",
    "    for t in tqdm(range(len(demand_scenario))):\n",
    "        # Sets current block\n",
    "        env[\"current_block\"] = t\n",
    "        \n",
    "        # Reset the random number generator with new seed to generate users with same values across runs\n",
    "        rng = np.random.default_rng(t)\n",
    "        \n",
    "        ### SIMULATION ###\n",
    "\n",
    "        # We return some demand which on expectation yields `demand_scenario[t]` new users per round\n",
    "        users = spawn_poisson_heterogeneous_demand(t, demand_scenario[t], shares_scenario[t], rng=rng)\n",
    "        \n",
    "        # Record the market price given the current snapshot\n",
    "        market_price = get_market_price(\n",
    "            users,\n",
    "            txpool.txs.values(),\n",
    "            env,\n",
    "            block_target\n",
    "        )\n",
    "\n",
    "        # Add new users to the pool\n",
    "        # We query each new user with the current basefee value\n",
    "        # Users either return a transaction or None if they prefer to balk\n",
    "        decided_txs = user_pool.decide_transactions(users, env)\n",
    "\n",
    "        # New transactions are added to the transaction pool\n",
    "        # `evicted_txs` holds the transactions removed from the pool for lack of space\n",
    "        evicted_txs = txpool.add_txs(decided_txs, env)\n",
    "\n",
    "        # The best valid transactions are taken out of the pool for inclusion\n",
    "        selected_txs = txpool.select_transactions(env)\n",
    "        txpool.remove_txs([tx.tx_hash for tx in selected_txs])\n",
    "\n",
    "        # We create a block with these transactions\n",
    "        block = Block1559(\n",
    "            txs = selected_txs, parent_hash = chain.current_head,\n",
    "            height = t, basefee = env[\"basefee\"]\n",
    "        )\n",
    "        env[\"recent_blocks\"] = env[\"recent_blocks\"][-(blocks_window-1):] + [block]\n",
    "        \n",
    "        # Record the min premium in the block\n",
    "        env[\"min_premium\"] = block.min_premium()\n",
    "        \n",
    "        # The block is added to the chain\n",
    "        chain.add_block(block)\n",
    "        \n",
    "        ### METRICS ###\n",
    "                \n",
    "        row_metrics = {\n",
    "            \"block\": t,\n",
    "            \"users\": len(users),\n",
    "            \"decided_txs\": len(decided_txs),\n",
    "            \"included_txs\": len(selected_txs),\n",
    "            \"basefee\": env[\"basefee\"] / (10 ** 9), # to Gwei\n",
    "            \"slow_oracle\": env[\"fee_oracles\"][ORACLE_SLOW] / (10 ** 9), # to Gwei\n",
    "            \"medium_oracle\": env[\"fee_oracles\"][ORACLE_MEDIUM] / (10 ** 9), # to Gwei\n",
    "            \"fast_oracle\": env[\"fee_oracles\"][ORACLE_FAST] / (10 ** 9), # to Gwei\n",
    "            \"market_price\": market_price  / (10 ** 9), # to Gwei\n",
    "            \"blk_min_premium\": block.min_premium() / (10 ** 9), # to Gwei\n",
    "            \"blk_max_premium\": block.max_premium() / (10 ** 9), # to Gwei\n",
    "            \"blk_min_tip\": block.min_tip(env) / (10 ** 9), # to Gwei\n",
    "            \"blk_max_tip\": block.max_tip(env) / (10 ** 9), # to Gwei\n",
    "        }\n",
    "        \n",
    "        if not extra_metrics is None:\n",
    "            row_metrics = {\n",
    "                **row_metrics,\n",
    "                **extra_metrics(env, users, user_pool, txpool),\n",
    "            }\n",
    "        \n",
    "        metrics.append(row_metrics)\n",
    "\n",
    "        ### ORACLES ###\n",
    "        \n",
    "        update_oracles(env, block_target)\n",
    "        \n",
    "        # Finally, basefee is updated and a new round starts\n",
    "        env[\"basefee\"] = update_basefee(block, env[\"basefee\"])\n",
    "\n",
    "    return (pd.DataFrame(metrics), user_pool, chain)"
   ]
  },
  {
   "cell_type": "markdown",
   "metadata": {},
   "source": [
    "## Boundary cases: all legacy and all 1559 users\n",
    "\n",
    "The simulation loop above defines a 1559-environment. There is a basefee determining transaction validity and blocks are created with 1559-formatted transactions (with `max_fee` and `gas_premium` fields). In this environment, we start by looking at two scenarios.\n",
    "\n",
    "1. In the first, we only have legacy users posting transactions in this 1559-environment. Legacy users are unaware of the presence of a basefee. They produce their transactions using the oracles as their sole source of market information. The transactions are legacy-formatted, setting the `gas_price` field to the amount desired by the user.\n",
    "2. In the second, we simulate 1559 users as we have done in previous notebooks, e.g., [Strategic users in 1559](https://nbviewer.jupyter.org/github/barnabemonnot/abm1559/blob/master/notebooks/strategicUser.ipynb). These users know about the basefee and use its current value to produce their transactions, which contain `max_fee` and `gas_premium` attributes.\n",
    "\n",
    "Before launching into these scenarios, we discuss the demand process in this notebook."
   ]
  },
  {
   "cell_type": "markdown",
   "metadata": {},
   "source": [
    "### Generating the demand\n",
    "\n",
    "In previous notebooks, we've always used a stationary demand to simulate the behaviour of the mechanism. This is a good assumption to obtain the stationary behaviour of the basefee and 1559 users, but is obviously a gross simplification of the real world. Demand can be made non-stationary in two ways:\n",
    "\n",
    "1. The amount of new users is drawn from a different distribution each step.\n",
    "2. User values change over time.\n",
    "\n",
    "While **2** is probably a better representation of systemic shocks (e.g., introduction of a new token or contract), **1** appears to reflect better more natural chain activity, with high and low demand regimes. This is the choice we make in this notebook.\n",
    "\n",
    "We generate a sample path from a geometric Brownian motion (GBM) with $\\mu = \\frac{\\sigma^2}{2}$ to remove any trend. The path has some value $d_t$ at each time step $t$. We then sample from a Poisson distribution of mean $d_t$ to obtain the actual number of users spawned at time step $t$. Note that $d_t$ may be a decimal number, but the Poisson sample will always be integer-valued."
   ]
  },
  {
   "cell_type": "code",
   "execution_count": null,
   "metadata": {},
   "outputs": [],
   "source": [
    "blocks = 6000\n",
    "\n",
    "rng = np.random.default_rng(4)\n",
    "sigma = 0.05\n",
    "mu = 0.5 * sigma**2\n",
    "gbm = list(generate_gbm(200, blocks, paths=1, mu=mu, sigma=sigma, rng=rng).flatten())\n",
    "\n",
    "# Plot demand\n",
    "f, ax = plt.subplots()\n",
    "plt.title('Demand size over time', color='black')\n",
    "plt.plot(range(blocks), gbm)\n",
    "ax.set_xlabel(\"Block height\")\n",
    "ax.set_ylabel(\"Number of new users\")\n",
    "plt.show()"
   ]
  },
  {
   "cell_type": "markdown",
   "metadata": {},
   "source": [
    "### Scenario 1: All legacy users\n",
    "\n",
    "In this scenario, only legacy users interact in a 1559-environment. We instantiate constant fractions of each user type each step, while the absolute number of users follows the demand process generated by the GBM sample path.\n",
    "\n",
    "In particular, following a rough intuition of Pareto-law distributed users, we imagine that most users are relatively unhurried, while some users are willing to pay greater amounts for faster inclusion. This assumption is implemented with the following shares of user types:"
   ]
  },
  {
   "cell_type": "code",
   "execution_count": null,
   "metadata": {},
   "outputs": [],
   "source": [
    "def extra_metrics_fpa(env, users, user_pool, txpool):\n",
    "    pool_legacy_users = len(\n",
    "        [tx for tx in txpool.txs.values() if isinstance(user_pool.users[tx.sender], LegacyBidder)])\n",
    "\n",
    "    return {\n",
    "        \"legacy\": len([user for user in users if isinstance(user, LegacyBidder)]),\n",
    "        \"pool_legacy\": pool_legacy_users\n",
    "    }\n",
    "\n",
    "# Number of new users per time step\n",
    "demand_scenario = [gbm[t] for t in range(6000)]\n",
    "\n",
    "# Shares of new users per time step\n",
    "shares_scenario_fpa = [{\n",
    "    LegacyBidderSlow: 0.50,\n",
    "    LegacyBidderMedium: 0.30,\n",
    "    LegacyBidderFast: 0.15,\n",
    "    BiddingBot: 0.05,\n",
    "} for t in range(blocks)]"
   ]
  },
  {
   "cell_type": "code",
   "execution_count": null,
   "metadata": {},
   "outputs": [],
   "source": [
    "(df, user_pool, chain) = simulate(demand_scenario, shares_scenario_fpa, extra_metrics_fpa)"
   ]
  },
  {
   "cell_type": "code",
   "execution_count": null,
   "metadata": {},
   "outputs": [],
   "source": [
    "ax = df.plot(\"block\", [\"basefee\", \"market_price\", \"slow_oracle\", \"medium_oracle\", \"fast_oracle\"])\n",
    "ax.set_xlabel(\"Block height\")\n",
    "ax.set_ylabel(\"Gas price (Gwei)\")"
   ]
  },
  {
   "cell_type": "markdown",
   "metadata": {},
   "source": [
    "#### Atrocity exhibition I: Sticky oracles\n",
    "\n",
    "Let's zoom in on a particularly interesting pattern."
   ]
  },
  {
   "cell_type": "code",
   "execution_count": null,
   "metadata": {},
   "outputs": [],
   "source": [
    "ax = df[(df.block >= 400) & (df.block < 1750)].plot(\"block\", [\"basefee\", \"market_price\", \"slow_oracle\", \"medium_oracle\", \"fast_oracle\"])\n",
    "ax.set_xlabel(\"Block height\")\n",
    "ax.set_ylabel(\"Gas price (Gwei)\")"
   ]
  },
  {
   "cell_type": "markdown",
   "metadata": {},
   "source": [
    "Past block 400, demand decreases, basefee does too, yet the oracles stubbornly quote a much higher price. We explain this strange situation in the following way:\n",
    "\n",
    "1. Legacy users observe the oracles, _not_ the basefee. Seeing that the price is high, most low-value users get discouraged and do not submit.\n",
    "2. The transaction pool empties quickly, as both the high and low value users it accumulated over time get included. The basefee is low, there is no reason not to include transactions from the pool, while most new users are discouraged by the high oracle prices. The inclusion of users in the pool slightly lowers the oracle levels, but not quite enough to encourage low value users to join."
   ]
  },
  {
   "cell_type": "code",
   "execution_count": null,
   "metadata": {},
   "outputs": [],
   "source": [
    "ax = df[(df.block >= 400) & (df.block < 1750)].plot(\"block\", [\"pool_legacy\"])\n",
    "ax.set_xlabel(\"Block height\")\n",
    "ax.set_ylabel(\"Users in pool\")"
   ]
  },
  {
   "cell_type": "markdown",
   "metadata": {},
   "source": [
    "3. For some time, the pool is empty, most new users are discouraged so blocks which aren't full keep the basefee at zero, while the oracles quote the prices observed in the latest blocks. These prices are sufficiently high to keep the oracles high, underscoring the reflexivity of the distribution-based oracles.\n",
    "4. A turning point is reached around block 900, as demand decreases significantly. There are now few users with value matching the price quoted by the oracles (most are still discouraged). Blocks are increasingly empty, inducing a sudden drop of the \"slow\" oracle which tracks the median fee included in recent blocks.\n",
    "5. Seeing a low oracle price, the `LegacyBidderSlow` users who use the \"slow\" oracle as their price reference resume sending their transactions, no longer discouraged.\n",
    "6. The same phenomenon occurs for the medium and fast oracles, with some delay since they track higher percentiles of the recent fee distribution.\n",
    "7. The basefee was in the doldrums, hovering close to its minimum value. Now that all the oracles are a go and demand is picking up again, blocks fill up and the basefee trends upwards once again."
   ]
  },
  {
   "cell_type": "markdown",
   "metadata": {},
   "source": [
    "This pattern is important to understand some of the failings of first-price auctions. **Strategic behaviour of bidders in FPAs tends to possess some amount of reflexivity: I will bid high if I believe you will too.** Oracles do not come to dispel this reflexivity, in fact, they may amplify it by focusing on the observed distribution of bids: as long as they see everyone bidding high, they'll quote a high price. This clearly induces some stickiness to prices, even after demand conditions have shifted and a lower price overall could clear the market.\n",
    "\n",
    "[Reflexivity and self-reinforcing behaviour](https://medium.com/@ethgasstation/ethereum-wallets-and-the-problem-of-the-default-gas-price-fe7e55743cb5) motivated the introduction of more precise fee estimations such as EGS, which alleviate the issue by monitoring the progress of transactions in real-time. Yet the fee estimation is still based to some extent on current and past _transaction_ data, offering an estimate based on the declared and accepted user gas prices. In contrast, we'll see further down that the introduction of the basefee provides an objective measure of the market-clearing price instead.\n",
    "\n",
    "Interestingly, the basefee clearly _doesn't_ give this objective measure in the plot above. We do not have real data on how the basefee would interact with an FPA-based market, but the results clue us in regarding its behaviour. When the disconnect between oracle prices and true market price is in effect, we should expect an opposite reaction of the basefee. While oracles overquote the current price, the basefee would stay low given the low inclusion rate of users who are mostly discouraged."
   ]
  },
  {
   "cell_type": "markdown",
   "metadata": {},
   "source": [
    "#### Atrocity exhibition II: Bubbly oracles\n",
    "\n",
    "We've already observed the stickiness of distributional oracles in the previous exhibit, where oracles become disconnected from the true market-clearing price. It's interesting to focus here on the conditions when there is also a disconnect _between oracles_ themselves.\n",
    "\n",
    "Consider the following plot."
   ]
  },
  {
   "cell_type": "code",
   "execution_count": null,
   "metadata": {},
   "outputs": [],
   "source": [
    "ax = df[(df.block >= 4500) & (df.block < 5500)].plot(\n",
    "    \"block\", [\"basefee\", \"market_price\", \"slow_oracle\", \"medium_oracle\", \"fast_oracle\"]\n",
    ")\n",
    "ax.set_xlabel(\"Block height\")\n",
    "ax.set_ylabel(\"Gas price (Gwei)\")"
   ]
  },
  {
   "cell_type": "markdown",
   "metadata": {},
   "source": [
    "The `fast` oracle clearly hovers above everyone else, reaching maximum difference with the two other oracles right before a demand dip. Although we've included only 5% of bidding bots, their behaviour is enough to tilt the highest percentile-tracking oracle to a distinct behaviour."
   ]
  },
  {
   "cell_type": "code",
   "execution_count": null,
   "metadata": {},
   "outputs": [],
   "source": [
    "# Obtain the pool of users (all users spawned by the simulation)\n",
    "user_pool_df = user_pool.export().rename(columns={ \"pub_key\": \"sender\" })\n",
    "\n",
    "# Export the trace of the chain, all transactions included in blocks\n",
    "chain_df = chain.export()\n",
    "\n",
    "# Join the two to associate transactions with their senders\n",
    "user_txs_df = chain_df.join(user_pool_df.set_index(\"sender\"), on=\"sender\")"
   ]
  },
  {
   "cell_type": "code",
   "execution_count": null,
   "metadata": {},
   "outputs": [],
   "source": [
    "txs_per_user_type = user_txs_df.groupby(\n",
    "    [\"block_height\", \"user_type\"]\n",
    ").agg(\n",
    "    { \"user_type\": len }\n",
    ").unstack(level=-1).reset_index()\n",
    "txs_per_user_type[\"user_type\"] = txs_per_user_type[\"user_type\"].fillna(0)\n",
    "txs_per_user_type.columns = [\n",
    "    \"block_height\", \"bidding_bot\", \"user_fast\", \"user_medium\", \"user_slow\"\n",
    "]\n",
    "txs_per_user_type[\"total\"] = txs_per_user_type.apply(\n",
    "    lambda row: row.bidding_bot + row.user_fast + row.user_medium + row.user_slow,\n",
    "    axis = 1\n",
    ")\n",
    "txs_per_user_type[\"percentage_bots\"] = txs_per_user_type.apply(\n",
    "    lambda row: row.bidding_bot / row.total * 100,\n",
    "    axis = 1\n",
    ")\n",
    "txs_per_user_type[\"fast_oracle\"] = df[\"fast_oracle\"]\n",
    "txs_per_user_type[\"medium_oracle\"] = df[\"medium_oracle\"]\n",
    "txs_per_user_type[\"oracle_diff\"] = txs_per_user_type[\"fast_oracle\"] - txs_per_user_type[\"medium_oracle\"]\n",
    "ax = txs_per_user_type.iloc[range(4800, 5420)].plot(\"block_height\", [\"oracle_diff\", \"percentage_bots\"])\n",
    "ax.set_xlabel(\"Block height\")\n",
    "ax.set_ylabel(\"Gas price difference (Gwei) / Percentage of bots\")"
   ]
  },
  {
   "cell_type": "markdown",
   "metadata": {},
   "source": [
    "We plot in blue the price difference between the `fast` oracle and the `medium` oracle, in Gwei. In orange we have the proportion of bidding bots included in the block. We spawn about 5% of bidding bots each step, but observe often a much higher proportion of them included in each block. Since these users have higher value, they are indeed more likely to be included. With their high fees, they push the fast oracle price up faster than the medium oracle moves."
   ]
  },
  {
   "cell_type": "markdown",
   "metadata": {},
   "source": [
    "### Scenario 2: All 1559 users\n",
    "\n",
    "In this scenario, we reproduce the situation analysed in [Strategic users in 1559](https://nbviewer.jupyter.org/github/barnabemonnot/abm1559/blob/master/notebooks/strategicUser.ipynb). We have two types of users:\n",
    "\n",
    "- `OptimisticUser`: simply takes the basefee plus the minimum miner premium as their bid.\n",
    "- `StrategicUser`: takes the basefee plus the minimum premium observed in the previous block, plus a small increment to outbid other users.\n",
    "\n",
    "As we've seen in the [Strategic users in 1559](https://nbviewer.jupyter.org/github/barnabemonnot/abm1559/blob/master/notebooks/strategicUser.ipynb) notebook, strategic users are competitive in times of large upward demand shifts (when basefee is \"excessively low\", in the terms of [Tim Roughgarden's report](http://timroughgarden.org/papers/eip1559.pdf)), but their outbidding is irrelevant otherwise."
   ]
  },
  {
   "cell_type": "code",
   "execution_count": null,
   "metadata": {},
   "outputs": [],
   "source": [
    "class OptimisticUser(User1559):\n",
    "    def __init__(self, wakeup_block, **kwargs):\n",
    "        super().__init__(wakeup_block, cost_per_unit = 0, **kwargs)\n",
    "        self.value = (1 + self.rng.pareto(2) * 20) * (10 ** 9)\n",
    "        \n",
    "    def create_transaction(self, env):\n",
    "        tx = super().create_transaction(env)\n",
    "        if not tx is None:\n",
    "            tx.gas_used = constants[\"SIMPLE_TRANSACTION_GAS\"]\n",
    "        return tx\n",
    "\n",
    "class StrategicUser(User1559):\n",
    "    \"\"\"\n",
    "    A strategic affine user sending 1559 transactions.\n",
    "\n",
    "    - Expects to be included in the next block\n",
    "    - Prefers not to participate if its expected payoff is negative\n",
    "    - Strategic gas_premium\n",
    "    \"\"\"\n",
    "\n",
    "    epsilon = 0.1 # how much the user overbids by\n",
    "\n",
    "    def __init__(self, wakeup_block, **kwargs):\n",
    "        super().__init__(wakeup_block, cost_per_unit = 0, **kwargs)\n",
    "        self.value = (1 + self.rng.pareto(2) * 20) * (10 ** 9)\n",
    "\n",
    "    def decide_parameters(self, env):\n",
    "        if env[\"min_premium\"] is None:\n",
    "            min_premium = 1 * (10 ** 9)\n",
    "        else:\n",
    "            min_premium = env[\"min_premium\"]\n",
    "\n",
    "        gas_premium = min_premium + self.epsilon * (10 ** 9)\n",
    "        max_fee = self.value\n",
    "\n",
    "        return {\n",
    "            \"max_fee\": max_fee, # in wei\n",
    "            \"gas_premium\": gas_premium, # in wei\n",
    "            \"start_block\": self.wakeup_block\n",
    "        }\n",
    "    \n",
    "    def create_transaction(self, env):\n",
    "        tx = super().create_transaction(env)\n",
    "        if not tx is None:\n",
    "            tx.gas_used = constants[\"SIMPLE_TRANSACTION_GAS\"]\n",
    "        return tx\n",
    "\n",
    "    def export(self):\n",
    "        return {\n",
    "            **super().export(),\n",
    "            \"user_type\": \"strategic_user_1559\",\n",
    "        }\n",
    "\n",
    "    def __str__(self):\n",
    "        return f\"1559 strategic affine user with value {self.value} and cost {self.cost_per_unit}\""
   ]
  },
  {
   "cell_type": "markdown",
   "metadata": {},
   "source": [
    "Let's simulate!"
   ]
  },
  {
   "cell_type": "code",
   "execution_count": null,
   "metadata": {},
   "outputs": [],
   "source": [
    "def extra_metrics_1559(env, users, user_pool, txpool):\n",
    "    pool_strat_users = len(\n",
    "            [tx for tx in txpool.txs.values() if type(user_pool.users[tx.sender]) is StrategicUser])\n",
    "    pool_nonstrat_users = len(\n",
    "            [tx for tx in txpool.txs.values() if type(user_pool.users[tx.sender]) is OptimisticUser])\n",
    "    return {\n",
    "        \"strategic\": len([user for user in users if type(user) is StrategicUser]),\n",
    "        \"nonstategic\": len([user for user in users if type(user) is OptimisticUser]),\n",
    "        \"pool_strategic\": pool_strat_users,\n",
    "        \"pool_nonstrat\": pool_nonstrat_users,\n",
    "    }\n",
    "\n",
    "# Number of new users per time step\n",
    "demand_scenario = [gbm[t] for t in range(6000)]\n",
    "\n",
    "# Shares of new users per time step\n",
    "shares_scenario_1559 = [{\n",
    "    StrategicUser: 0.50,\n",
    "    OptimisticUser: 0.50,\n",
    "} for t in range(blocks)]"
   ]
  },
  {
   "cell_type": "code",
   "execution_count": null,
   "metadata": {},
   "outputs": [],
   "source": [
    "(df_1559, user_pool_1559, chain_1559) = simulate(demand_scenario, shares_scenario_1559, extra_metrics_1559)"
   ]
  },
  {
   "cell_type": "markdown",
   "metadata": {},
   "source": [
    "We plot the recorded basefee, computed market price and the three oracles over the simulation run."
   ]
  },
  {
   "cell_type": "code",
   "execution_count": null,
   "metadata": {},
   "outputs": [],
   "source": [
    "ax = df_1559.plot(\"block\", [\"basefee\", \"market_price\", \"slow_oracle\", \"medium_oracle\", \"fast_oracle\"])\n",
    "ax.set_xlabel(\"Block height\")\n",
    "ax.set_ylabel(\"Gas price (Gwei)\")"
   ]
  },
  {
   "cell_type": "markdown",
   "metadata": {},
   "source": [
    "Everything moves in lockstep! The basefee adjusts the realised demand to fit the available block space, the way it's supposed to do. Let's zoom in on a small area."
   ]
  },
  {
   "cell_type": "code",
   "execution_count": null,
   "metadata": {},
   "outputs": [],
   "source": [
    "ax = df_1559[(df_1559.block >= 400) & (df_1559.block < 1800)].plot(\"block\", [\"basefee\", \"market_price\", \"slow_oracle\", \"medium_oracle\", \"fast_oracle\"])\n",
    "ax.set_xlabel(\"Block height\")\n",
    "ax.set_ylabel(\"Gas price (Gwei)\")"
   ]
  },
  {
   "cell_type": "markdown",
   "metadata": {},
   "source": [
    "It is not completely evident, but we can observe a small amount of lag between the basefee and the market price, as well as between the oracles and the market price.\n",
    "\n",
    "- When demand decreases and the market-clearing price does too, basefee catches up with some delay. Between blocks 4980 and 5020, it is slightly above the market price. The market price is very much the target of the basefee update rule, so any movement of the first is followed by a slightly laggy response of the other.\n",
    "- Meanwhile, oracles are even more laggy. We've seen in Scenario 1 that oracles are inherently reflexive, and that their price levels have strong inertia. While the market price falls, oracles stick to their previous level for some time before naturally following downwards.\n",
    "\n",
    "Despite these small differences, it is clear that the introduction of basefee in agent strategies has implicitly pulled the oracles towards more precise estimations of the true market price. We give the root mean square error (RMSE) between the series of 90-th percentile oracle (\"fast\") and the market price below. The RMSE measures the distance between two series of data, with an RMSE of zero where the series are equal at each point. We find the RMSE in scenario 2 is lower than that of scenario 1.\n",
    "\n",
    "We also provide the mean bias error (MBE). A positive mean bias error would indicate that users (at least those who choose the fast oracle for their estimation) tend to overpay compared to the true market price, in line with the popular wisdom that FPAs induce overpaying. Although we find a positive MBE here, more simulations may be required to assert that this is a significant pattern."
   ]
  },
  {
   "cell_type": "code",
   "execution_count": null,
   "metadata": {},
   "outputs": [],
   "source": [
    "rmse_1559 = np.linalg.norm(df_1559[\"fast_oracle\"] - df_1559[\"market_price\"])\n",
    "rmse_fpa = np.linalg.norm(df[\"fast_oracle\"] - df[\"market_price\"])\n",
    "mbe_1559 = np.mean(df_1559[\"fast_oracle\"] - df_1559[\"market_price\"])\n",
    "mbe_fpa = np.mean(df[\"fast_oracle\"] - df[\"market_price\"])\n",
    "\n",
    "pd.DataFrame({\n",
    "    \"Scenario\": [\"All legacy users\", \"All 1559 users\"],\n",
    "    \"RMSE\": [rmse_fpa, rmse_1559],\n",
    "    \"MBE\": [mbe_fpa, mbe_1559]\n",
    "})"
   ]
  },
  {
   "cell_type": "markdown",
   "metadata": {},
   "source": [
    "## Final boss: Legacy and 1559 users\n",
    "\n",
    "We now investigate the more realistic scenario of having some users operating with 1559-adapted tooling, while some keep on with legacy transactions tooling. We simulate here 50% of users on each side, although we expect most users to have 1559-ready tools by the time of the launch (wallets and dapps)."
   ]
  },
  {
   "cell_type": "code",
   "execution_count": null,
   "metadata": {},
   "outputs": [],
   "source": [
    "def extra_metrics_mixed(env, users, user_pool, txpool):\n",
    "    return {\n",
    "        **extra_metrics_fpa(env, users, user_pool, txpool),\n",
    "        **extra_metrics_1559(env, users, user_pool, txpool),\n",
    "    }\n",
    "\n",
    "# Number of new users per time step\n",
    "demand_scenario = [gbm[t] for t in range(6000)]\n",
    "\n",
    "share_1559 = 0.5\n",
    "\n",
    "# Shares of new users per time step\n",
    "shares_scenario_mixed = [{\n",
    "    **{ key: (1-share_1559) * share for key, share in shares_scenario_fpa[0].items() },\n",
    "    **{ key: share_1559 * share for key, share in shares_scenario_1559[0].items() },\n",
    "} for t in range(blocks)]"
   ]
  },
  {
   "cell_type": "code",
   "execution_count": null,
   "metadata": {},
   "outputs": [],
   "source": [
    "(df_mixed, user_pool_mixed, chain_mixed) = simulate(demand_scenario, shares_scenario_mixed, extra_metrics_mixed)"
   ]
  },
  {
   "cell_type": "code",
   "execution_count": null,
   "metadata": {},
   "outputs": [],
   "source": [
    "ax = df_mixed.plot(\"block\", [\"basefee\", \"market_price\", \"slow_oracle\", \"medium_oracle\", \"fast_oracle\"])\n",
    "ax.set_xlabel(\"Block height\")\n",
    "ax.set_ylabel(\"Gas price (Gwei)\")"
   ]
  },
  {
   "cell_type": "markdown",
   "metadata": {},
   "source": [
    "**The introduction of 1559-operating users, who use the basefee as their bidding reference, has tamed the disconnect between distributional oracles and true market price.** We can verify this with another round of metrics."
   ]
  },
  {
   "cell_type": "code",
   "execution_count": null,
   "metadata": {},
   "outputs": [],
   "source": [
    "rmse_mixed = np.linalg.norm(df_mixed[\"fast_oracle\"] - df_mixed[\"market_price\"])\n",
    "mbe_mixed = np.mean(df_mixed[\"fast_oracle\"] - df_mixed[\"market_price\"])\n",
    "\n",
    "pd.DataFrame({\n",
    "    \"Scenario\": [\"All legacy users\", \"Legacy and 1559 users\", \"All 1559 users\"],\n",
    "    \"RMSE\": [rmse_fpa, rmse_mixed, rmse_1559],\n",
    "    \"MBE\": [mbe_fpa, mbe_mixed, mbe_1559]\n",
    "})"
   ]
  },
  {
   "cell_type": "markdown",
   "metadata": {},
   "source": [
    "As expected the distance between the oracle and the true market price is bounded between the two benchmark cases we've looked at."
   ]
  },
  {
   "cell_type": "markdown",
   "metadata": {},
   "source": [
    "### Inclusion statistics for user types\n",
    "\n",
    "In the following, we exhibit details on inclusion delay for the 6 user types in our simulation, as well as average gas price paid and waiting time."
   ]
  },
  {
   "cell_type": "code",
   "execution_count": null,
   "metadata": {},
   "outputs": [],
   "source": [
    "# Obtain the pool of users (all users spawned by the simulation)\n",
    "user_pool_mixed_df = user_pool_mixed.export().rename(columns={ \"pub_key\": \"sender\" })\n",
    "\n",
    "# Export the trace of the chain, all transactions included in blocks\n",
    "chain_mixed_df = chain_mixed.export()\n",
    "\n",
    "# Join the two to associate transactions with their senders\n",
    "user_txs_mixed_df = chain_mixed_df.join(user_pool_mixed_df.set_index(\"sender\"), on=\"sender\")"
   ]
  },
  {
   "cell_type": "code",
   "execution_count": null,
   "metadata": {},
   "outputs": [],
   "source": [
    "user_txs_mixed_df[\"gas_price\"] = user_txs_mixed_df.apply(\n",
    "    lambda row: row.tx.gas_price({ \"basefee\": row.basefee * (10 ** 9) }) / (10 ** 9),\n",
    "    axis=1\n",
    ")\n",
    "user_txs_mixed_df[\"waiting_time\"] = user_txs_mixed_df[\"block_height\"] - user_txs_mixed_df[\"wakeup_block\"]"
   ]
  },
  {
   "cell_type": "markdown",
   "metadata": {},
   "source": [
    "In the mixed simulation, users are spawned in unequal ratios, according to the following distribution:\n",
    "\n",
    "| User | Share |\n",
    "|-|-|\n",
    "| (1559) Optimistic | 25% |\n",
    "| (1559) Strategic | 25% |\n",
    "| (FPA) Slow oracle follower | 25% |\n",
    "| (FPA) Medium oracle follower | 15% |\n",
    "| (FPA) Fast oracle follower | 7.5% |\n",
    "| (FPA) Bidding bot | 2.5% |\n",
    "\n",
    "Since all user values are drawn from the same distribution (except for bidding bots), we can check how each user type performs by comparing the shares above with the realised shares of users in each block. For instance, if we consistently observe strategic users occupying 40% of block space, we can say these users overperform."
   ]
  },
  {
   "cell_type": "code",
   "execution_count": null,
   "metadata": {},
   "outputs": [],
   "source": [
    "counts_df = user_txs_mixed_df[[\"block_height\", \"user_type\", \"basefee\"]].groupby(\n",
    "    [\"block_height\", \"user_type\"]\n",
    ").count().unstack().fillna(0)\n",
    "counts_df[\"total\"] = sum([counts_df.iloc[:,i] for i in range(6)])\n",
    "for i in range(6):\n",
    "    counts_df.iloc[:,i] = counts_df.iloc[:,i] / counts_df[\"total\"] * 100\n",
    "expected_percent = [2.5, 25, 25, 7.5, 15, 25]\n",
    "for i in range(6):\n",
    "    counts_df.iloc[:,i] = counts_df.iloc[:,i] - expected_percent[i]\n",
    "    \n",
    "f = plt.figure()\n",
    "plt.title('Inclusion difference relative to expectation', color='black')\n",
    "counts_df.iloc[:,0:6].rolling(window=200).mean().plot(ax=f.gca())\n",
    "plt.legend(loc='center left', bbox_to_anchor=(1, 0.5))\n",
    "plt.show()"
   ]
  },
  {
   "cell_type": "markdown",
   "metadata": {},
   "source": [
    "Note that we took a rolling average above to smooth out the noise. We observe a consistently positive difference between the realised and the expected share of 1559 users included in blocks (\"over-representation\"), while we see a negative difference for slow and medium oracle followers (\"under-representation\"). Fast oracle followers hover around 0, meaning they neither underperform not overperform.\n",
    "\n",
    "**Although the casting rule to convert legacy transactions to 1559 transactions seems to favour legacy users who potentially offer their whole bid to the miner, the result above points to the contrary.** The basefee is the true determinant of transaction inclusion, with 1559 users better able to \"ride out\" basefee fluctuations. Legacy users base their price estimation on the oracle levels, which do not track the basefee directly but the bids of previous users. This is visible too with the following plot which tracks the average gas price paid by each user type over time."
   ]
  },
  {
   "cell_type": "code",
   "execution_count": null,
   "metadata": {},
   "outputs": [],
   "source": [
    "f = plt.figure()\n",
    "\n",
    "plt.title('Gas price per spawned group', color='black')\n",
    "user_txs_mixed_df[\n",
    "    (user_txs_mixed_df.wakeup_block <= 1000)\n",
    "][[\"wakeup_block\", \"user_type\", \"gas_price\"]].groupby(\n",
    "    [\"wakeup_block\", \"user_type\"]\n",
    ").mean().unstack().fillna(0).rolling(window=100).mean().plot(ax=f.gca())\n",
    "plt.legend(loc='center left', bbox_to_anchor=(1, 0.5))\n",
    "plt.show()"
   ]
  },
  {
   "cell_type": "markdown",
   "metadata": {},
   "source": [
    "To provide a fair comparison, we compute the average gas price paid for all users spawned at the same time, rather than all users included in the same block. We also zoom in on a representative part of the plot. We unsurprisingly observe higher gas prices for bidding bots, but also notice higher gas prices for 1559 users than for FPA, more so when demand and prices are increasing.\n",
    "\n",
    "We know there is no free lunch, so why are legacy users getting a rebate? The reason: **they tend to wait for a longer amount of time before inclusion.** Legacy users who underbid initially and are priced out by the higher basefee wait until price levels come down and their bid becomes valid again."
   ]
  },
  {
   "cell_type": "code",
   "execution_count": null,
   "metadata": {},
   "outputs": [],
   "source": [
    "f = plt.figure()\n",
    "\n",
    "plt.title('Waiting time per wave', color='black')\n",
    "user_txs_mixed_df[\n",
    "    (user_txs_mixed_df.wakeup_block <= 1000)\n",
    "][[\"wakeup_block\", \"user_type\", \"waiting_time\"]].groupby(\n",
    "    [\"wakeup_block\", \"user_type\"]\n",
    ").mean().unstack().fillna(0).rolling(window=100).mean().plot(ax=f.gca())\n",
    "plt.legend(loc='center left', bbox_to_anchor=(1, 0.5))\n",
    "plt.show()"
   ]
  },
  {
   "cell_type": "markdown",
   "metadata": {},
   "source": [
    "All this presents an issue for the transition as currently envisioned. Legacy users would consistently underestimate the inclusion price, especially when demand increases and the basefee with it, by basing their bids on the reported oracle levels. To alleviate this concern, **it may be necessary for FPA oracles to include the current basefee level in their price estimations**."
   ]
  },
  {
   "cell_type": "markdown",
   "metadata": {},
   "source": [
    "---\n",
    "\n",
    "## (Bonus) How much improvement do 1559 users bring?\n",
    "\n",
    "We reuse the code of the mixed simulation and vary the `share_1559` parameter to get a sense of the impact of basefee-reasoning users."
   ]
  },
  {
   "cell_type": "code",
   "execution_count": null,
   "metadata": {},
   "outputs": [],
   "source": [
    "# Number of new users per time step\n",
    "demand_scenario = [gbm[t] for t in range(6000)]\n",
    "rmses = []\n",
    "\n",
    "for share_1559 in np.arange(0, 1, 0.1):\n",
    "    # Shares of new users per time step\n",
    "    shares_scenario_mixed = [{\n",
    "        **{ key: (1-share_1559) * share for key, share in shares_scenario_fpa[0].items() },\n",
    "        **{ key: share_1559 * share for key, share in shares_scenario_1559[0].items() },\n",
    "    } for t in range(blocks)]\n",
    "\n",
    "    (df_mixed, user_pool_mixed, chain_mixed) = simulate(demand_scenario, shares_scenario_mixed)\n",
    "    \n",
    "    rmse_mixed = np.linalg.norm(df_mixed[\"fast_oracle\"] - df_mixed[\"market_price\"])\n",
    "    rmses += [rmse_mixed]"
   ]
  },
  {
   "cell_type": "code",
   "execution_count": null,
   "metadata": {},
   "outputs": [],
   "source": [
    "pd.DataFrame({\n",
    "    \"share_1559\": np.arange(0, 1, 0.1),\n",
    "    \"rmse\": rmses\n",
    "}).plot(\"share_1559\", \"rmse\")"
   ]
  },
  {
   "cell_type": "markdown",
   "metadata": {},
   "source": [
    "**There is already a steep reduction in the distance between the true market price and the 90th-percentile oracle with 20% of 1559 users in the mix!**"
   ]
  },
  {
   "cell_type": "raw",
   "metadata": {},
   "source": [
    "The stable road to EIP 1559: Transitioning out of first-price auctions"
   ]
  },
  {
   "cell_type": "raw",
   "metadata": {},
   "source": []
  },
  {
   "cell_type": "raw",
   "metadata": {},
   "source": [
    "// Authors\n",
    "let authorData = [\"barnabe\", \"fred\"];"
   ]
  },
  {
   "cell_type": "raw",
   "metadata": {},
   "source": [
    "Many thanks to Sacha for his edits and comments."
   ]
  }
 ],
 "metadata": {
  "desc": "Legacy users are supported and may benefit from 1559 fee estimation",
  "kernelspec": {
   "display_name": "Python 3",
   "language": "python",
   "name": "python3"
  },
  "language_info": {
   "codemirror_mode": {
    "name": "ipython",
    "version": 3
   },
   "file_extension": ".py",
   "mimetype": "text/x-python",
   "name": "python",
   "nbconvert_exporter": "python",
   "pygments_lexer": "ipython3",
   "version": "3.9.5"
  },
  "path": "notebooks/transition1559.html",
  "repo": "abm1559",
  "title": "The stable road to EIP 1559: Transitioning out of first-price auctions",
  "toc-autonumbering": false,
  "toc-showcode": false,
  "toc-showmarkdowntxt": false
 },
 "nbformat": 4,
 "nbformat_minor": 4
}
